{
 "cells": [
  {
   "cell_type": "markdown",
   "metadata": {},
   "source": [
    "# Question 01"
   ]
  },
  {
   "cell_type": "code",
   "execution_count": 4,
   "metadata": {},
   "outputs": [],
   "source": [
    "class circle:\n",
    "        def __init__(self , radius):\n",
    "            self.r = radius\n",
    "            self.pie = 3.14\n",
    "        def area (self):\n",
    "            \n",
    "            print(self.pie*self.r*self.r)\n",
    "            print(\"cm\")\n",
    "        def parameter(self):\n",
    "            print(2*self.pie*self.r)\n",
    "            print(\"cm\")"
   ]
  },
  {
   "cell_type": "code",
   "execution_count": 2,
   "metadata": {},
   "outputs": [
    {
     "name": "stdout",
     "output_type": "stream",
     "text": [
      "enter in cm55\n"
     ]
    }
   ],
   "source": [
    "rad=float(input(\"enter in cm\"))\n",
    "c1=circle(rad)"
   ]
  },
  {
   "cell_type": "code",
   "execution_count": 3,
   "metadata": {},
   "outputs": [
    {
     "name": "stdout",
     "output_type": "stream",
     "text": [
      "9498.500000000002\n",
      "cm\n",
      "345.40000000000003\n",
      "cm\n"
     ]
    }
   ],
   "source": [
    "c1.area()\n",
    "c1.parameter()"
   ]
  },
  {
   "cell_type": "markdown",
   "metadata": {},
   "source": [
    "#Question 02"
   ]
  },
  {
   "cell_type": "code",
   "execution_count": 12,
   "metadata": {},
   "outputs": [],
   "source": [
    "class string:\n",
    "    def  get_str(self,stri):\n",
    "        self.s=stri\n",
    "    def print_str(self):\n",
    "        print(self.s)"
   ]
  },
  {
   "cell_type": "code",
   "execution_count": 14,
   "metadata": {},
   "outputs": [
    {
     "name": "stdout",
     "output_type": "stream",
     "text": [
      "Input any string=mobile\n"
     ]
    }
   ],
   "source": [
    "t = input(\"Input any string\" \"=\")"
   ]
  },
  {
   "cell_type": "code",
   "execution_count": 15,
   "metadata": {},
   "outputs": [
    {
     "name": "stdout",
     "output_type": "stream",
     "text": [
      "mobile\n"
     ]
    }
   ],
   "source": [
    "s1=string()\n",
    "s1.get_str(t)\n",
    "s1.print_str()"
   ]
  },
  {
   "cell_type": "code",
   "execution_count": null,
   "metadata": {},
   "outputs": [],
   "source": [
    "class reverse:\n",
    "    def rev(self,str):\n",
    "        t = "
   ]
  }
 ],
 "metadata": {
  "kernelspec": {
   "display_name": "Python 3",
   "language": "python",
   "name": "python3"
  },
  "language_info": {
   "codemirror_mode": {
    "name": "ipython",
    "version": 3
   },
   "file_extension": ".py",
   "mimetype": "text/x-python",
   "name": "python",
   "nbconvert_exporter": "python",
   "pygments_lexer": "ipython3",
   "version": "3.7.4"
  }
 },
 "nbformat": 4,
 "nbformat_minor": 2
}
